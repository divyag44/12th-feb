{
 "cells": [
  {
   "cell_type": "markdown",
   "id": "ccc16ff0-99c8-4acd-9a53-82c72e270b0f",
   "metadata": {},
   "source": [
    "## Q1. What is an Exception in python? Write the difference between Exceptions and Syntax errors."
   ]
  },
  {
   "cell_type": "code",
   "execution_count": 1,
   "id": "d4140966-b8c5-4a01-b1c6-3ef014989c7f",
   "metadata": {},
   "outputs": [
    {
     "ename": "SyntaxError",
     "evalue": "invalid syntax (2562181661.py, line 1)",
     "output_type": "error",
     "traceback": [
      "\u001b[0;36m  Cell \u001b[0;32mIn[1], line 1\u001b[0;36m\u001b[0m\n\u001b[0;31m    An Exception in python is an error that occurs during the execution of a program. It can be handled to prevent the program from crashing.\u001b[0m\n\u001b[0m       ^\u001b[0m\n\u001b[0;31mSyntaxError\u001b[0m\u001b[0;31m:\u001b[0m invalid syntax\n"
     ]
    }
   ],
   "source": [
    "An Exception in python is an error that occurs during the execution of a program. It can be handled to prevent the program from crashing.\n",
    "\n",
    "On the other hand, Syntax errors are issues with the code that prevent it from running due to incorrect syntax."
   ]
  },
  {
   "cell_type": "markdown",
   "id": "c1d0e103-e6a8-4508-90a5-b0271d179c1f",
   "metadata": {},
   "source": [
    "## Q2. What happens when an exception is not handled? Explain with an example."
   ]
  },
  {
   "cell_type": "code",
   "execution_count": 2,
   "id": "74922bf2-d8ca-443e-b660-22b9748ab484",
   "metadata": {},
   "outputs": [
    {
     "ename": "TypeError",
     "evalue": "'str' object does not support item assignment",
     "output_type": "error",
     "traceback": [
      "\u001b[0;31m---------------------------------------------------------------------------\u001b[0m",
      "\u001b[0;31mTypeError\u001b[0m                                 Traceback (most recent call last)",
      "Cell \u001b[0;32mIn[2], line 4\u001b[0m\n\u001b[1;32m      1\u001b[0m \u001b[38;5;66;03m## When Exception is handel the program raise an error and exit the program.\u001b[39;00m\n\u001b[1;32m      2\u001b[0m name \u001b[38;5;241m=\u001b[39m \u001b[38;5;124m'\u001b[39m\u001b[38;5;124mDivya\u001b[39m\u001b[38;5;124m'\u001b[39m\n\u001b[0;32m----> 4\u001b[0m \u001b[43mname\u001b[49m\u001b[43m[\u001b[49m\u001b[38;5;241;43m0\u001b[39;49m\u001b[43m]\u001b[49m \u001b[38;5;241m=\u001b[39m \u001b[38;5;124m'\u001b[39m\u001b[38;5;124ma\u001b[39m\u001b[38;5;124m'\u001b[39m\n\u001b[1;32m      5\u001b[0m \u001b[38;5;66;03m# Raise a TypeError: 'str' object does not support item assignment\u001b[39;00m\n",
      "\u001b[0;31mTypeError\u001b[0m: 'str' object does not support item assignment"
     ]
    }
   ],
   "source": [
    "## When Exception is handel the program raise an error and exit the program.\n",
    "name = 'Divya'\n",
    "\n",
    "name[0] = 'a'\n",
    "# Raise a TypeError: 'str' object does not support item assignment"
   ]
  },
  {
   "cell_type": "markdown",
   "id": "30f8abeb-5634-4f01-925f-e53770ef19fb",
   "metadata": {},
   "source": [
    "## Q3. Which Python statements are used to catch and handle exceptions? Explain with an example."
   ]
  },
  {
   "cell_type": "code",
   "execution_count": 3,
   "id": "44c06466-e236-4daf-b8d7-92601dafd4ce",
   "metadata": {},
   "outputs": [
    {
     "name": "stdout",
     "output_type": "stream",
     "text": [
      "Python string does not support item assignment.\n"
     ]
    }
   ],
   "source": [
    "try:\n",
    "    name[0] = 'a'\n",
    "except TypeError:\n",
    "    print('Python string does not support item assignment.')\n",
    "    "
   ]
  },
  {
   "cell_type": "markdown",
   "id": "08cb0805-0bd1-4bdc-b6a6-820f0efbc5c6",
   "metadata": {},
   "source": [
    "## Q4. Explain with an example:\n",
    "try and else\n",
    "finally\n",
    "raise"
   ]
  },
  {
   "cell_type": "code",
   "execution_count": 4,
   "id": "fec3ce3b-cf8a-4c0e-b2b5-8e82335460f1",
   "metadata": {},
   "outputs": [
    {
     "name": "stdout",
     "output_type": "stream",
     "text": [
      "File not found to read.\n",
      "Finally block excuted!\n"
     ]
    }
   ],
   "source": [
    "# try and else\n",
    "try:\n",
    "    with open('test.json', 'r') as f:\n",
    "        print('File Found and Opened.')\n",
    "except FileNotFoundError:\n",
    "    print('File not found to read.')\n",
    "else:\n",
    "    print(24+45 - (2**3))\n",
    "finally:\n",
    "    print('Finally block excuted!')"
   ]
  },
  {
   "cell_type": "code",
   "execution_count": null,
   "id": "d8827c75-01ac-45c9-8ce9-28f1630e59a4",
   "metadata": {},
   "outputs": [],
   "source": [
    "num = int(input('Enter a number: '))\n",
    "\n",
    "if num == 0:\n",
    "    raise ZeroDivisionError('Enter a nubmber less than or more than zero.')\n",
    "else:\n",
    "    print(100 / num)"
   ]
  },
  {
   "cell_type": "markdown",
   "id": "d8ea3488-5f83-4e08-b60e-8492d5048159",
   "metadata": {},
   "source": [
    "## Q5. What are Custom Exceptions in python? Why do we need Custom Exceptions? Explain with an example."
   ]
  },
  {
   "cell_type": "code",
   "execution_count": null,
   "id": "761a717d-f6e8-4ae2-afe8-a9b7c771b211",
   "metadata": {},
   "outputs": [],
   "source": []
  }
 ],
 "metadata": {
  "kernelspec": {
   "display_name": "Python 3 (ipykernel)",
   "language": "python",
   "name": "python3"
  },
  "language_info": {
   "codemirror_mode": {
    "name": "ipython",
    "version": 3
   },
   "file_extension": ".py",
   "mimetype": "text/x-python",
   "name": "python",
   "nbconvert_exporter": "python",
   "pygments_lexer": "ipython3",
   "version": "3.10.8"
  }
 },
 "nbformat": 4,
 "nbformat_minor": 5
}
